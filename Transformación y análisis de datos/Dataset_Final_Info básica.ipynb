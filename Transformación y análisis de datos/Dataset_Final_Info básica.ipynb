{
 "cells": [
  {
   "cell_type": "code",
   "execution_count": 1,
   "id": "9665ed24-e0e7-43a0-866c-4549d836ac99",
   "metadata": {},
   "outputs": [],
   "source": [
    "import pandas as pd\n",
    "\n",
    "# Lectura del fichero csv con separador ';'\n",
    "data = pd.read_csv(\"C:\\\\TFM\\\\DFinal.csv\", sep=\";\", engine=\"python\")"
   ]
  },
  {
   "cell_type": "code",
   "execution_count": 2,
   "id": "f13886a3-e3d4-4d84-b21c-a2a9ee9ba426",
   "metadata": {},
   "outputs": [
    {
     "data": {
      "text/html": [
       "<div>\n",
       "<style scoped>\n",
       "    .dataframe tbody tr th:only-of-type {\n",
       "        vertical-align: middle;\n",
       "    }\n",
       "\n",
       "    .dataframe tbody tr th {\n",
       "        vertical-align: top;\n",
       "    }\n",
       "\n",
       "    .dataframe thead th {\n",
       "        text-align: right;\n",
       "    }\n",
       "</style>\n",
       "<table border=\"1\" class=\"dataframe\">\n",
       "  <thead>\n",
       "    <tr style=\"text-align: right;\">\n",
       "      <th></th>\n",
       "      <th>Origen_Continente</th>\n",
       "      <th>Origen</th>\n",
       "      <th>Destino</th>\n",
       "      <th>Destino_Provincia</th>\n",
       "      <th>Anyo</th>\n",
       "      <th>Mes</th>\n",
       "      <th>Mes_Nombre</th>\n",
       "      <th>Gasto_Medio_Diario_PorVisitante</th>\n",
       "      <th>Tiempo_Medio_Estancia</th>\n",
       "      <th>Total_Turistas</th>\n",
       "      <th>Total_Pernoctaciones</th>\n",
       "    </tr>\n",
       "  </thead>\n",
       "  <tbody>\n",
       "    <tr>\n",
       "      <th>0</th>\n",
       "      <td>Europa</td>\n",
       "      <td>Alemania</td>\n",
       "      <td>Andalucía</td>\n",
       "      <td>Almería</td>\n",
       "      <td>2021</td>\n",
       "      <td>1</td>\n",
       "      <td>Enero</td>\n",
       "      <td>11</td>\n",
       "      <td>76,38</td>\n",
       "      <td>2993</td>\n",
       "      <td>32923</td>\n",
       "    </tr>\n",
       "    <tr>\n",
       "      <th>1</th>\n",
       "      <td>Europa</td>\n",
       "      <td>Alemania</td>\n",
       "      <td>Andalucía</td>\n",
       "      <td>Almería</td>\n",
       "      <td>2021</td>\n",
       "      <td>2</td>\n",
       "      <td>Febrero</td>\n",
       "      <td>15,2</td>\n",
       "      <td>76,38</td>\n",
       "      <td>2424</td>\n",
       "      <td>36845</td>\n",
       "    </tr>\n",
       "    <tr>\n",
       "      <th>2</th>\n",
       "      <td>Europa</td>\n",
       "      <td>Alemania</td>\n",
       "      <td>Andalucía</td>\n",
       "      <td>Almería</td>\n",
       "      <td>2021</td>\n",
       "      <td>3</td>\n",
       "      <td>Marzo</td>\n",
       "      <td>15,5</td>\n",
       "      <td>76,38</td>\n",
       "      <td>2465</td>\n",
       "      <td>38208</td>\n",
       "    </tr>\n",
       "    <tr>\n",
       "      <th>3</th>\n",
       "      <td>Europa</td>\n",
       "      <td>Alemania</td>\n",
       "      <td>Andalucía</td>\n",
       "      <td>Almería</td>\n",
       "      <td>2021</td>\n",
       "      <td>4</td>\n",
       "      <td>Abril</td>\n",
       "      <td>17,2</td>\n",
       "      <td>76,38</td>\n",
       "      <td>2319</td>\n",
       "      <td>39887</td>\n",
       "    </tr>\n",
       "    <tr>\n",
       "      <th>4</th>\n",
       "      <td>Europa</td>\n",
       "      <td>Alemania</td>\n",
       "      <td>Andalucía</td>\n",
       "      <td>Almería</td>\n",
       "      <td>2021</td>\n",
       "      <td>5</td>\n",
       "      <td>Mayo</td>\n",
       "      <td>14,7</td>\n",
       "      <td>76,38</td>\n",
       "      <td>2443</td>\n",
       "      <td>35912</td>\n",
       "    </tr>\n",
       "  </tbody>\n",
       "</table>\n",
       "</div>"
      ],
      "text/plain": [
       "  Origen_Continente    Origen    Destino Destino_Provincia  Anyo  Mes  \\\n",
       "0            Europa  Alemania  Andalucía           Almería  2021    1   \n",
       "1            Europa  Alemania  Andalucía           Almería  2021    2   \n",
       "2            Europa  Alemania  Andalucía           Almería  2021    3   \n",
       "3            Europa  Alemania  Andalucía           Almería  2021    4   \n",
       "4            Europa  Alemania  Andalucía           Almería  2021    5   \n",
       "\n",
       "  Mes_Nombre Gasto_Medio_Diario_PorVisitante Tiempo_Medio_Estancia  \\\n",
       "0      Enero                              11                 76,38   \n",
       "1    Febrero                            15,2                 76,38   \n",
       "2      Marzo                            15,5                 76,38   \n",
       "3      Abril                            17,2                 76,38   \n",
       "4       Mayo                            14,7                 76,38   \n",
       "\n",
       "   Total_Turistas  Total_Pernoctaciones  \n",
       "0            2993                 32923  \n",
       "1            2424                 36845  \n",
       "2            2465                 38208  \n",
       "3            2319                 39887  \n",
       "4            2443                 35912  "
      ]
     },
     "execution_count": 2,
     "metadata": {},
     "output_type": "execute_result"
    }
   ],
   "source": [
    "# Primeros registros\n",
    "data.head()"
   ]
  },
  {
   "cell_type": "code",
   "execution_count": 3,
   "id": "89463622-616d-4ed1-b784-05b4431ebf3f",
   "metadata": {},
   "outputs": [
    {
     "name": "stdout",
     "output_type": "stream",
     "text": [
      "<class 'pandas.core.frame.DataFrame'>\n",
      "RangeIndex: 49682 entries, 0 to 49681\n",
      "Data columns (total 11 columns):\n",
      " #   Column                           Non-Null Count  Dtype \n",
      "---  ------                           --------------  ----- \n",
      " 0   Origen_Continente                49682 non-null  object\n",
      " 1   Origen                           49682 non-null  object\n",
      " 2   Destino                          49682 non-null  object\n",
      " 3   Destino_Provincia                49682 non-null  object\n",
      " 4   Anyo                             49682 non-null  int64 \n",
      " 5   Mes                              49682 non-null  int64 \n",
      " 6   Mes_Nombre                       49682 non-null  object\n",
      " 7   Gasto_Medio_Diario_PorVisitante  49682 non-null  object\n",
      " 8   Tiempo_Medio_Estancia            49682 non-null  object\n",
      " 9   Total_Turistas                   49682 non-null  int64 \n",
      " 10  Total_Pernoctaciones             49682 non-null  int64 \n",
      "dtypes: int64(4), object(7)\n",
      "memory usage: 4.2+ MB\n"
     ]
    }
   ],
   "source": [
    "# Información\n",
    "data.info()"
   ]
  },
  {
   "cell_type": "code",
   "execution_count": 5,
   "id": "efc8f6f7-fc2e-49e9-8ebe-ac149d4cb70f",
   "metadata": {},
   "outputs": [
    {
     "data": {
      "text/html": [
       "<div>\n",
       "<style scoped>\n",
       "    .dataframe tbody tr th:only-of-type {\n",
       "        vertical-align: middle;\n",
       "    }\n",
       "\n",
       "    .dataframe tbody tr th {\n",
       "        vertical-align: top;\n",
       "    }\n",
       "\n",
       "    .dataframe thead th {\n",
       "        text-align: right;\n",
       "    }\n",
       "</style>\n",
       "<table border=\"1\" class=\"dataframe\">\n",
       "  <thead>\n",
       "    <tr style=\"text-align: right;\">\n",
       "      <th></th>\n",
       "      <th>Origen_Continente</th>\n",
       "      <th>Origen</th>\n",
       "      <th>Destino</th>\n",
       "      <th>Destino_Provincia</th>\n",
       "      <th>Mes_Nombre</th>\n",
       "      <th>Gasto_Medio_Diario_PorVisitante</th>\n",
       "      <th>Tiempo_Medio_Estancia</th>\n",
       "    </tr>\n",
       "  </thead>\n",
       "  <tbody>\n",
       "    <tr>\n",
       "      <th>count</th>\n",
       "      <td>49682</td>\n",
       "      <td>49682</td>\n",
       "      <td>49682</td>\n",
       "      <td>49682</td>\n",
       "      <td>49682</td>\n",
       "      <td>49682</td>\n",
       "      <td>49682</td>\n",
       "    </tr>\n",
       "    <tr>\n",
       "      <th>unique</th>\n",
       "      <td>4</td>\n",
       "      <td>35</td>\n",
       "      <td>17</td>\n",
       "      <td>50</td>\n",
       "      <td>12</td>\n",
       "      <td>262</td>\n",
       "      <td>1834</td>\n",
       "    </tr>\n",
       "    <tr>\n",
       "      <th>top</th>\n",
       "      <td>Europa</td>\n",
       "      <td>Alemania</td>\n",
       "      <td>Andalucía</td>\n",
       "      <td>Barcelona</td>\n",
       "      <td>Agosto</td>\n",
       "      <td>7,8</td>\n",
       "      <td>43,34</td>\n",
       "    </tr>\n",
       "    <tr>\n",
       "      <th>freq</th>\n",
       "      <td>34053</td>\n",
       "      <td>2082</td>\n",
       "      <td>9096</td>\n",
       "      <td>1445</td>\n",
       "      <td>5058</td>\n",
       "      <td>791</td>\n",
       "      <td>165</td>\n",
       "    </tr>\n",
       "  </tbody>\n",
       "</table>\n",
       "</div>"
      ],
      "text/plain": [
       "       Origen_Continente    Origen    Destino Destino_Provincia Mes_Nombre  \\\n",
       "count              49682     49682      49682             49682      49682   \n",
       "unique                 4        35         17                50         12   \n",
       "top               Europa  Alemania  Andalucía         Barcelona     Agosto   \n",
       "freq               34053      2082       9096              1445       5058   \n",
       "\n",
       "       Gasto_Medio_Diario_PorVisitante Tiempo_Medio_Estancia  \n",
       "count                            49682                 49682  \n",
       "unique                             262                  1834  \n",
       "top                                7,8                 43,34  \n",
       "freq                               791                   165  "
      ]
     },
     "execution_count": 5,
     "metadata": {},
     "output_type": "execute_result"
    }
   ],
   "source": [
    "# Resumen estadístico\n",
    "#data.describe(include = \"all\")\n",
    "\n",
    "# Filtrar las columnas de tipo objeto (categóricas)\n",
    "columnas_categoricas = data.select_dtypes(include='object')\n",
    "\n",
    "# Aplicar una función personalizada para obtener la información deseada\n",
    "resumen_personalizado = columnas_categoricas.apply(lambda col: col.describe(include=['count', 'unique', 'top', 'freq']))\n",
    "\n",
    "resumen_personalizado"
   ]
  },
  {
   "cell_type": "code",
   "execution_count": 3,
   "id": "c58f6952-2c26-4536-a89b-c5337d747177",
   "metadata": {},
   "outputs": [
    {
     "data": {
      "text/plain": [
       "Origen_Continente                  object\n",
       "Origen                             object\n",
       "Destino                            object\n",
       "Destino_Provincia                  object\n",
       "Anyo                                int64\n",
       "Mes                                 int64\n",
       "Mes_Nombre                         object\n",
       "Gasto_Medio_Diario_PorVisitante    object\n",
       "Tiempo_Medio_Estancia              object\n",
       "Total_Turistas                      int64\n",
       "Total_Pernoctaciones                int64\n",
       "dtype: object"
      ]
     },
     "execution_count": 3,
     "metadata": {},
     "output_type": "execute_result"
    }
   ],
   "source": [
    "# Tipos de datos\n",
    "data.dtypes"
   ]
  },
  {
   "cell_type": "code",
   "execution_count": 6,
   "id": "9d21988e-784a-4cc0-91bd-a54ac6413e24",
   "metadata": {},
   "outputs": [
    {
     "data": {
      "text/plain": [
       "99382"
      ]
     },
     "execution_count": 6,
     "metadata": {},
     "output_type": "execute_result"
    }
   ],
   "source": [
    "# Registros del dataset\n",
    "len(data)"
   ]
  },
  {
   "cell_type": "code",
   "execution_count": 37,
   "id": "2bfe0572-fd8d-416c-8db4-35adcfd78815",
   "metadata": {},
   "outputs": [
    {
     "data": {
      "text/plain": [
       "RESIDENCIA/ORIGEN            0\n",
       "Continentes               7632\n",
       "Países                   45792\n",
       "Provincia de destino         0\n",
       "Concepto turístico           0\n",
       "Periodo                      0\n",
       "Total                   692187\n",
       "dtype: int64"
      ]
     },
     "execution_count": 37,
     "metadata": {},
     "output_type": "execute_result"
    }
   ],
   "source": [
    "# Conteo valores nulos\n",
    "data.isnull().sum()"
   ]
  }
 ],
 "metadata": {
  "kernelspec": {
   "display_name": "Python 3 (ipykernel)",
   "language": "python",
   "name": "python3"
  },
  "language_info": {
   "codemirror_mode": {
    "name": "ipython",
    "version": 3
   },
   "file_extension": ".py",
   "mimetype": "text/x-python",
   "name": "python",
   "nbconvert_exporter": "python",
   "pygments_lexer": "ipython3",
   "version": "3.11.4"
  }
 },
 "nbformat": 4,
 "nbformat_minor": 5
}
